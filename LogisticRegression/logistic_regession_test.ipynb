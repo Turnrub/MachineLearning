{
 "cells": [
  {
   "cell_type": "code",
   "execution_count": 1,
   "metadata": {
    "collapsed": true
   },
   "outputs": [],
   "source": [
    "#每行数据以\\t隔开，最后一列为类标号\n",
    "def loadDataSet(datafile):\n",
    "    featData = []; labelDate = []\n",
    "    with open(datafile, 'r') as fr_file:\n",
    "        for eachline in fr_file:\n",
    "            oneline = eachline.split('\\t')\n",
    "            tempArr = []\n",
    "            for i in range(len(oneline)-1):\n",
    "                tempArr.append(float(oneline[i]))\n",
    "            featData.append(tempArr)\n",
    "            labelDate.append(int(float(oneline[-1].strip())))\n",
    "    return featData, labelDate   #返回的数据是list"
   ]
  },
  {
   "cell_type": "code",
   "execution_count": 4,
   "metadata": {
    "collapsed": false
   },
   "outputs": [],
   "source": [
    "trainfile = r\"LogisticRegression/data/train.txt\"\n",
    "testfile = r\"LogisticRegression/data/test.txt\"\n",
    "train_X, train_y = loadDataSet(trainfile)\n",
    "test_X, test_y = loadDataSet(testfile)"
   ]
  },
  {
   "cell_type": "code",
   "execution_count": 7,
   "metadata": {
    "collapsed": false
   },
   "outputs": [
    {
     "name": "stdout",
     "output_type": "stream",
     "text": [
      "create logisticRegressionClassifier\nW: (21, 1)\nX_predict (67, 21)\ny: (67, 1)\nw: (21, 1)\n1-th sample 1 is classified as :1\nclassify error.\n2-th sample 1 is classified as :1\nclassify error.\n3-th sample 1 is classified as :1\n4-th sample 0 is classified as :1\n5-th sample 1 is classified as :1\nclassify error.\n6-th sample 1 is classified as :1\nclassify error.\n7-th sample 1 is classified as :1\nclassify error.\n8-th sample 1 is classified as :1\nclassify error.\n9-th sample 1 is classified as :1\nclassify error.\n10-th sample 0 is classified as :1\n11-th sample 1 is classified as :1\nclassify error.\n12-th sample 0 is classified as :1\n13-th sample 0 is classified as :1\n14-th sample 1 is classified as :1\nclassify error.\n15-th sample 1 is classified as :1\nclassify error.\n16-th sample 1 is classified as :1\nclassify error.\n17-th sample 1 is classified as :1\nclassify error.\n18-th sample 0 is classified as :1\n19-th sample 0 is classified as :1\n20-th sample 0 is classified as :1\n21-th sample 1 is classified as :1\nclassify error.\n22-th sample 1 is classified as :1\n23-th sample 0 is classified as :1\n24-th sample 0 is classified as :1\n25-th sample 1 is classified as :1\n26-th sample 1 is classified as :1\n27-th sample 1 is classified as :1\n28-th sample 1 is classified as :1\nclassify error.\n29-th sample 1 is classified as :1\nclassify error.\n30-th sample 1 is classified as :1\nclassify error.\n31-th sample 1 is classified as :1\nclassify error.\n32-th sample 1 is classified as :1\nclassify error.\n33-th sample 1 is classified as :1\nclassify error.\n34-th sample 0 is classified as :1\n35-th sample 1 is classified as :1\nclassify error.\n36-th sample 0 is classified as :1\n37-th sample 1 is classified as :1\n38-th sample 1 is classified as :1\nclassify error.\n39-th sample 1 is classified as :1\n40-th sample 1 is classified as :1\n41-th sample 1 is classified as :1\n42-th sample 1 is classified as :1\nclassify error.\n43-th sample 1 is classified as :1\nclassify error.\n44-th sample 0 is classified as :1\n45-th sample 1 is classified as :1\nclassify error.\n46-th sample 1 is classified as :1\nclassify error.\n47-th sample 1 is classified as :1\nclassify error.\n48-th sample 1 is classified as :1\nclassify error.\n49-th sample 1 is classified as :1\n50-th sample 0 is classified as :1\n51-th sample 0 is classified as :1\n52-th sample 0 is classified as :1\n53-th sample 0 is classified as :1\nclassify error.\n54-th sample 1 is classified as :1\nclassify error.\n55-th sample 1 is classified as :1\n56-th sample 1 is classified as :1\nclassify error.\n57-th sample 1 is classified as :1\nclassify error.\n58-th sample 0 is classified as :1\nclassify error.\n59-th sample 1 is classified as :1\nclassify error.\n60-th sample 1 is classified as :1\nclassify error.\n61-th sample 1 is classified as :1\nclassify error.\n62-th sample 0 is classified as :1\n63-th sample 1 is classified as :1\nclassify error.\n64-th sample 1 is classified as :1\n65-th sample 0 is classified as :1\n66-th sample 1 is classified as :1\nclassify error.\n67-th sample 0 is classified as :1\nerror rate is:%.4f 0.5522388059701493\n"
     ]
    },
    {
     "name": "stderr",
     "output_type": "stream",
     "text": [
      "F:\\Machinelearning\\LogisticRegression\\logistic_regression.py:20: RuntimeWarning: overflow encountered in exp\n  return 1.0/(1+np.exp(-fx))\n"
     ]
    },
    {
     "data": {
      "text/plain": [
       "0.5522388059701493"
      ]
     },
     "execution_count": 7,
     "metadata": {},
     "output_type": "execute_result"
    }
   ],
   "source": [
    "from LogisticRegression.logistic_regression import LogisticRegressionClassifier\n",
    "clf = LogisticRegressionClassifier()\n",
    "weigh = clf.train(train_X, train_y, W=None, learning_rate=0.01, num_iters=500)\n",
    "clf.predict(test_X, test_y, weigh)"
   ]
  },
  {
   "cell_type": "code",
   "execution_count": 23,
   "metadata": {},
   "outputs": [],
   "source": [
    ""
   ]
  },
  {
   "cell_type": "code",
   "execution_count": 23,
   "metadata": {},
   "outputs": [],
   "source": [
    ""
   ]
  },
  {
   "cell_type": "code",
   "execution_count": 23,
   "metadata": {},
   "outputs": [],
   "source": [
    ""
   ]
  },
  {
   "cell_type": "code",
   "execution_count": 23,
   "metadata": {},
   "outputs": [],
   "source": [
    ""
   ]
  },
  {
   "cell_type": "code",
   "execution_count": null,
   "metadata": {},
   "outputs": [],
   "source": [
    ""
   ]
  }
 ],
 "metadata": {
  "kernelspec": {
   "display_name": "Python 2",
   "language": "python",
   "name": "python2"
  },
  "language_info": {
   "codemirror_mode": {
    "name": "ipython",
    "version": 2.0
   },
   "file_extension": ".py",
   "mimetype": "text/x-python",
   "name": "python",
   "nbconvert_exporter": "python",
   "pygments_lexer": "ipython2",
   "version": "2.7.6"
  }
 },
 "nbformat": 4,
 "nbformat_minor": 0
}